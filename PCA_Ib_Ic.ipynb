{
 "cells": [
  {
   "cell_type": "code",
   "execution_count": 25,
   "metadata": {
    "collapsed": true
   },
   "outputs": [],
   "source": [
    "import numpy as np\n",
    "import matplotlib.pyplot as plt\n",
    "import sys, os, glob, re"
   ]
  },
  {
   "cell_type": "markdown",
   "metadata": {},
   "source": [
    "## Get Data"
   ]
  },
  {
   "cell_type": "code",
   "execution_count": 8,
   "metadata": {
    "collapsed": false
   },
   "outputs": [],
   "source": [
    "snid_dir = '/home/data/mew488/Desktop/NYU/Research/Maryam/allSNIDtemp/'\n",
    "all_spec = os.listdir(snid_dir)"
   ]
  },
  {
   "cell_type": "code",
   "execution_count": 57,
   "metadata": {
    "collapsed": false
   },
   "outputs": [],
   "source": [
    "# Get List of spectra files that are type Ib or Ic\n",
    "\n",
    "# For some reason, these files do not have a standard organization, which makes it\n",
    "# stupidly aggravating to load them all. Here we search for spectra of type Ib or Ic\n",
    "# and find the line number where the wavelength 2501.69 appears (this is the first).\n",
    "Ib_Ic = []\n",
    "skiprows = []\n",
    "for spec_name in all_spec:\n",
    "    path = snid_dir + spec_name\n",
    "    with open(path, 'r') as f:\n",
    "        lines = f.readlines()\n",
    "        header = lines[0].split()\n",
    "        SN_type = int(header[-2])\n",
    "        if ((SN_type == 2) or (SN_type == 3)): \n",
    "            Ib_Ic.append(path)\n",
    "            first_wvl = '2501.69'\n",
    "            for i in range(len(lines)-1):\n",
    "                line = lines[i]\n",
    "                if first_wvl in line:\n",
    "                    skiprows.append(i)\n",
    "                    break"
   ]
  },
  {
   "cell_type": "code",
   "execution_count": 58,
   "metadata": {
    "collapsed": false
   },
   "outputs": [
    {
     "data": {
      "text/plain": [
       "153"
      ]
     },
     "execution_count": 58,
     "metadata": {},
     "output_type": "execute_result"
    }
   ],
   "source": [
    "len(Ib_Ic)"
   ]
  },
  {
   "cell_type": "code",
   "execution_count": 59,
   "metadata": {
    "collapsed": false
   },
   "outputs": [
    {
     "data": {
      "text/plain": [
       "153"
      ]
     },
     "execution_count": 59,
     "metadata": {},
     "output_type": "execute_result"
    }
   ],
   "source": [
    "len(skiprows)"
   ]
  },
  {
   "cell_type": "code",
   "execution_count": 63,
   "metadata": {
    "collapsed": false
   },
   "outputs": [],
   "source": [
    "spectra = []\n",
    "for i in range(len(Ib_Ic)-1):\n",
    "    spec = Ib_Ic[i]\n",
    "    skiprow = skiprows[i]\n",
    "    s = np.loadtxt(spec,skiprows=skiprow)\n",
    "    spectra.append(s)\n",
    "        "
   ]
  },
  {
   "cell_type": "code",
   "execution_count": 66,
   "metadata": {
    "collapsed": false
   },
   "outputs": [],
   "source": [
    "a = np.array(spectra[0])"
   ]
  },
  {
   "cell_type": "code",
   "execution_count": 67,
   "metadata": {
    "collapsed": false
   },
   "outputs": [
    {
     "data": {
      "text/plain": [
       "(1024, 9)"
      ]
     },
     "execution_count": 67,
     "metadata": {},
     "output_type": "execute_result"
    }
   ],
   "source": [
    "a.shape"
   ]
  },
  {
   "cell_type": "code",
   "execution_count": null,
   "metadata": {
    "collapsed": true
   },
   "outputs": [],
   "source": []
  }
 ],
 "metadata": {
  "kernelspec": {
   "display_name": "Python 2",
   "language": "python",
   "name": "python2"
  },
  "language_info": {
   "codemirror_mode": {
    "name": "ipython",
    "version": 2
   },
   "file_extension": ".py",
   "mimetype": "text/x-python",
   "name": "python",
   "nbconvert_exporter": "python",
   "pygments_lexer": "ipython2",
   "version": "2.7.1"
  }
 },
 "nbformat": 4,
 "nbformat_minor": 1
}
